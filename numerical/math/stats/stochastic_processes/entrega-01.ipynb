{
 "cells": [
  {
   "cell_type": "code",
   "execution_count": null,
   "metadata": {},
   "outputs": [],
   "source": []
  },
  {
   "cell_type": "code",
   "execution_count": 1,
   "metadata": {},
   "outputs": [],
   "source": [
    "import numpy as np"
   ]
  },
  {
   "cell_type": "code",
   "execution_count": 2,
   "metadata": {},
   "outputs": [],
   "source": [
    "def stationary_distribution(P: np.array) -> np.array:\n",
    "    A = P - np.eye(len(P))\n",
    "    A[:, (len(P) - 1)] = np.ones([len(P)])\n",
    "    \n",
    "    p_stationary = np.linalg.pinv(A)[len(P) - 1, :]\n",
    "    return p_stationary"
   ]
  },
  {
   "cell_type": "markdown",
   "metadata": {},
   "source": [
    "## Exercise: Ruiz Family\n",
    "\n",
    "La familia Ruiz recibe el periódico todas las mañanas, y lo coloca en el revistero después de leerlo. Cada tarde, con probabilidad 0.3, alguien coge todos los periódicos del revistero y los lleva al contenedor de papel. Por otro lado, si hay al menos 5 periódicos en el montón, el señor Ruiz los lleva al contenedor."
   ]
  },
  {
   "cell_type": "markdown",
   "metadata": {},
   "source": [
    "##### a) Construye una cadena de Markov que cuente el número de periódicos que hay en el revistero cada noche. ¿Cómo son los estados?"
   ]
  },
  {
   "cell_type": "code",
   "execution_count": 3,
   "metadata": {},
   "outputs": [],
   "source": [
    "transition_ruiz = np.array([[0.0, 1.0, 0.0, 0.0, 0.0],\n",
    "                            [0.3, 0.0, 0.7, 0.0, 0.0],\n",
    "                            [0.3, 0.0, 0.0, 0.7, 0.0],\n",
    "                            [0.3, 0.0, 0.0, 0.0, 0.7],\n",
    "                            [1.0, 0.0, 0.0, 0.0, 0.0]])"
   ]
  },
  {
   "cell_type": "markdown",
   "metadata": {},
   "source": [
    "##### b) Si el domingo por la noche está vacío el revistero, ¿Cuál es la probabilidad de que haya 1 periódico el miércoles por la noche?"
   ]
  },
  {
   "cell_type": "code",
   "execution_count": 4,
   "metadata": {},
   "outputs": [
    {
     "data": {
      "text/plain": [
       "array([[0.237, 0.21 , 0.21 , 0.   , 0.343],\n",
       "       [0.469, 0.237, 0.147, 0.147, 0.   ],\n",
       "       [0.126, 0.58 , 0.147, 0.147, 0.   ],\n",
       "       [0.273, 0.09 , 0.49 , 0.147, 0.   ],\n",
       "       [0.21 , 0.3  , 0.   , 0.49 , 0.   ]])"
      ]
     },
     "execution_count": 4,
     "metadata": {},
     "output_type": "execute_result"
    }
   ],
   "source": [
    "np.linalg.matrix_power(transition_ruiz, 4)"
   ]
  },
  {
   "cell_type": "markdown",
   "metadata": {},
   "source": [
    "##### c) Calcula la probabilidad, a largo plazo, de que el revistero esté vacío una noche cualquiera."
   ]
  },
  {
   "cell_type": "code",
   "execution_count": 5,
   "metadata": {},
   "outputs": [
    {
     "data": {
      "text/plain": [
       "array([0.28304557, 0.28304557, 0.1981319 , 0.13869233, 0.09708463])"
      ]
     },
     "execution_count": 5,
     "metadata": {},
     "output_type": "execute_result"
    }
   ],
   "source": [
    "stationary_distribution(transition_ruiz)"
   ]
  },
  {
   "cell_type": "markdown",
   "metadata": {},
   "source": [
    "### Exercise 1.36"
   ]
  },
  {
   "cell_type": "code",
   "execution_count": 6,
   "metadata": {},
   "outputs": [],
   "source": [
    "transition_36 = np.array([[   0,    0,    1],\n",
    "                          [0.05, 0.95,    0],\n",
    "                          [   0, 0.02, 0.98]])"
   ]
  },
  {
   "cell_type": "markdown",
   "metadata": {},
   "source": [
    "#### Exercise 1.36 a)"
   ]
  },
  {
   "cell_type": "code",
   "execution_count": 7,
   "metadata": {},
   "outputs": [
    {
     "data": {
      "text/plain": [
       "array([0.01408451, 0.28169014, 0.70422535])"
      ]
     },
     "execution_count": 7,
     "metadata": {},
     "output_type": "execute_result"
    }
   ],
   "source": [
    "stationary_distribution(transition_36)"
   ]
  },
  {
   "cell_type": "markdown",
   "metadata": {},
   "source": [
    "#### Exercise 1.36 b)"
   ]
  },
  {
   "cell_type": "code",
   "execution_count": 8,
   "metadata": {},
   "outputs": [
    {
     "data": {
      "text/plain": [
       "array([71.  ,  3.55,  1.42])"
      ]
     },
     "execution_count": 8,
     "metadata": {},
     "output_type": "execute_result"
    }
   ],
   "source": [
    "1 / stationary_distribution(transition_36)"
   ]
  },
  {
   "cell_type": "markdown",
   "metadata": {},
   "source": [
    "### Exercise 1.48"
   ]
  },
  {
   "cell_type": "code",
   "execution_count": 9,
   "metadata": {},
   "outputs": [
    {
     "data": {
      "text/plain": [
       "array([[0. , 0.5, 0. , 0. , 0. , 0. , 0. , 0. , 0. , 0. , 0. , 0.5],\n",
       "       [0.5, 0. , 0.5, 0. , 0. , 0. , 0. , 0. , 0. , 0. , 0. , 0. ],\n",
       "       [0. , 0.5, 0. , 0.5, 0. , 0. , 0. , 0. , 0. , 0. , 0. , 0. ],\n",
       "       [0. , 0. , 0.5, 0. , 0.5, 0. , 0. , 0. , 0. , 0. , 0. , 0. ],\n",
       "       [0. , 0. , 0. , 0.5, 0. , 0.5, 0. , 0. , 0. , 0. , 0. , 0. ],\n",
       "       [0. , 0. , 0. , 0. , 0.5, 0. , 0.5, 0. , 0. , 0. , 0. , 0. ],\n",
       "       [0. , 0. , 0. , 0. , 0. , 0.5, 0. , 0.5, 0. , 0. , 0. , 0. ],\n",
       "       [0. , 0. , 0. , 0. , 0. , 0. , 0.5, 0. , 0.5, 0. , 0. , 0. ],\n",
       "       [0. , 0. , 0. , 0. , 0. , 0. , 0. , 0.5, 0. , 0.5, 0. , 0. ],\n",
       "       [0. , 0. , 0. , 0. , 0. , 0. , 0. , 0. , 0.5, 0. , 0.5, 0. ],\n",
       "       [0. , 0. , 0. , 0. , 0. , 0. , 0. , 0. , 0. , 0.5, 0. , 0.5],\n",
       "       [0.5, 0. , 0. , 0. , 0. , 0. , 0. , 0. , 0. , 0. , 0.5, 0. ]])"
      ]
     },
     "execution_count": 9,
     "metadata": {},
     "output_type": "execute_result"
    }
   ],
   "source": [
    "n = 12\n",
    "transition_48 = np.zeros([n, n])\n",
    "for i in range(n):\n",
    "    transition_48[i, [(i - 1) % n, (i + 1) % n]] = [0.5] * 2\n",
    "transition_48"
   ]
  },
  {
   "cell_type": "markdown",
   "metadata": {},
   "source": [
    "#### Exercise 1.48 a)"
   ]
  },
  {
   "cell_type": "markdown",
   "metadata": {},
   "source": [
    "La distribución estacionaria será: \n",
    "$$\\pi_{i} = 1 / 12 \\ \\forall i \\in {1, 2, ..., 12}$$\n",
    "Por cumplir la matriz de transición la propiedad de ser *doblemente estocástica* (tanto filas como columnas suman la unidad). Por tanto, dado que se pide el número medio de pasos:\n",
    "$$ E_i(T_i) = \\frac{1}{\\pi_i} = \\frac{1}{1 / 12} = 12 \\ \\forall i \\in {1, 2, ..., 12}$$\n",
    "\n",
    "El mismo resultado se obtiene al ejecutar las operaciones:"
   ]
  },
  {
   "cell_type": "code",
   "execution_count": 10,
   "metadata": {},
   "outputs": [
    {
     "data": {
      "text/plain": [
       "array([12., 12., 12., 12., 12., 12., 12., 12., 12., 12., 12., 12.])"
      ]
     },
     "execution_count": 10,
     "metadata": {},
     "output_type": "execute_result"
    }
   ],
   "source": [
    "1 / stationary_distribution(transition_48)"
   ]
  },
  {
   "cell_type": "markdown",
   "metadata": {},
   "source": [
    "#### Exercise 1.48 b)"
   ]
  },
  {
   "cell_type": "code",
   "execution_count": 11,
   "metadata": {},
   "outputs": [
    {
     "name": "stdout",
     "output_type": "stream",
     "text": [
      "0.0881\n",
      "0.08825\n",
      "0.09096666666666667\n",
      "0.0914\n",
      "0.09116\n",
      "0.09143333333333334\n",
      "0.0909\n",
      "0.0906625\n",
      "0.09092222222222222\n",
      "0.09117\n",
      "0.09117\n"
     ]
    }
   ],
   "source": [
    "import numpy as np\n",
    "\n",
    "n = 100000\n",
    "y = 0\n",
    "d = 12\n",
    "for n_temp in range(1, n + 1):\n",
    "    visited = set()\n",
    "    k = np.random.choice(range(d))\n",
    "    \n",
    "    position = k\n",
    "    s = str(position % d) + ' '\n",
    "    visited.add(position % d)\n",
    "    \n",
    "    position += np.random.choice([-1, 1])\n",
    "    s += str(position % d) + ' '\n",
    "    visited.add(position % d)\n",
    "    \n",
    "    while(position % d != k):\n",
    "        position += np.random.choice([-1, 1])\n",
    "        s += str(position % d) + ' '\n",
    "        visited.add(position % d)\n",
    "        \n",
    "    y += (len(visited) == d)\n",
    "    \n",
    "    # print(y, s, sep=', ')\n",
    "    if n_temp % 10000 == 0:\n",
    "        print(y / n_temp)\n",
    "print(y / n)"
   ]
  }
 ],
 "metadata": {
  "kernelspec": {
   "display_name": "Python 3",
   "language": "python",
   "name": "python3"
  },
  "language_info": {
   "codemirror_mode": {
    "name": "ipython",
    "version": 3
   },
   "file_extension": ".py",
   "mimetype": "text/x-python",
   "name": "python",
   "nbconvert_exporter": "python",
   "pygments_lexer": "ipython3",
   "version": "3.7.0"
  }
 },
 "nbformat": 4,
 "nbformat_minor": 2
}
