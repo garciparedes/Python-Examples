{
 "cells": [
  {
   "cell_type": "markdown",
   "metadata": {},
   "source": [
    "# Markov Chains"
   ]
  },
  {
   "cell_type": "code",
   "execution_count": 1,
   "metadata": {},
   "outputs": [],
   "source": [
    "import numpy as np"
   ]
  },
  {
   "cell_type": "code",
   "execution_count": 2,
   "metadata": {},
   "outputs": [],
   "source": [
    "def stationary_distribution(P: np.array) -> np.array:\n",
    "    A = P - np.eye(len(P))\n",
    "    A[:, (len(P) - 1)] = np.ones([len(P)])\n",
    "    \n",
    "    p_stationary = np.linalg.inv(A)[len(P) - 1, :]\n",
    "    return p_stationary"
   ]
  },
  {
   "cell_type": "code",
   "execution_count": 3,
   "metadata": {},
   "outputs": [],
   "source": [
    "def check_detailed_balance(transition, pi=None):\n",
    "    if pi is None:\n",
    "        pi = stationary_distribution(transition)\n",
    "    detailed_balance= True\n",
    "    for x in range(4):\n",
    "        for y in range(4):\n",
    "            detailed_balance &= (pi[x] * transition[x, y] == pi[y] * transition[y, x])\n",
    "    return detailed_balance"
   ]
  },
  {
   "cell_type": "markdown",
   "metadata": {},
   "source": [
    "# Exercises Durret Book"
   ]
  },
  {
   "cell_type": "markdown",
   "metadata": {},
   "source": [
    "### Exercise 1.2"
   ]
  },
  {
   "cell_type": "code",
   "execution_count": 4,
   "metadata": {},
   "outputs": [],
   "source": [
    "transition_2 = np.array([[     0,     1,     0,     0,     0,     0],\n",
    "                         [  1/25,  8/25, 16/25,     0,     0,     0],\n",
    "                         [     0,  4/25, 12/25,  9/25,     0,     0],\n",
    "                         [     0,     0,  9/25, 12/25,  4/25,     0],\n",
    "                         [     0,     0,     0, 16/25,  8/25,  1/25],\n",
    "                         [     0,     0,     0,     0,     1,     0]])"
   ]
  },
  {
   "cell_type": "markdown",
   "metadata": {},
   "source": [
    "### Exercise 1.3"
   ]
  },
  {
   "cell_type": "code",
   "execution_count": 5,
   "metadata": {},
   "outputs": [],
   "source": [
    "transition_3 = (1/16) * np.array([[ 3, 2, 2, 2, 3, 4],\n",
    "                                  [ 4, 3, 2, 2, 2, 3],\n",
    "                                  [ 3, 4, 3, 2, 2, 2],\n",
    "                                  [ 2, 3, 4, 3, 2, 2],\n",
    "                                  [ 2, 2, 3, 4, 3, 2],\n",
    "                                  [ 2, 2, 2, 3, 4, 3]]) "
   ]
  },
  {
   "cell_type": "markdown",
   "metadata": {},
   "source": [
    "### Exercise 1.7"
   ]
  },
  {
   "cell_type": "code",
   "execution_count": 6,
   "metadata": {},
   "outputs": [],
   "source": [
    "transition_7 = np.array([[0.6, 0.4,   0,   0],\n",
    "                         [  0,   0, 0.6, 0.4],\n",
    "                         [0.6, 0.4,   0,   0],\n",
    "                         [  0,   0, 0.3, 0.7]]) "
   ]
  },
  {
   "cell_type": "markdown",
   "metadata": {},
   "source": [
    "### Exercise 1.9"
   ]
  },
  {
   "cell_type": "code",
   "execution_count": null,
   "metadata": {},
   "outputs": [],
   "source": []
  },
  {
   "cell_type": "markdown",
   "metadata": {},
   "source": [
    "### Exercise 1.10"
   ]
  },
  {
   "cell_type": "code",
   "execution_count": 7,
   "metadata": {},
   "outputs": [
    {
     "name": "stdout",
     "output_type": "stream",
     "text": [
      "[0.25454545 0.29090909 0.18181818 0.27272727]\n"
     ]
    }
   ],
   "source": [
    "transition_10c = np.array([[0.7, 0, 0.3, 0], \n",
    "                           [0.2, 0.5, 0.3, 0], \n",
    "                           [0.1, 0.2, 0.1, 0.3], \n",
    "                           [0, 0.4, 0, 0.6]])\n",
    "print(stationary_distribution(transition_10c))"
   ]
  },
  {
   "cell_type": "markdown",
   "metadata": {},
   "source": [
    "### Exercise 1.11"
   ]
  },
  {
   "cell_type": "code",
   "execution_count": 8,
   "metadata": {},
   "outputs": [
    {
     "name": "stdout",
     "output_type": "stream",
     "text": [
      "[0.00396825 0.09920635 0.3968254  0.3968254  0.09920635 0.00396825]\n"
     ]
    }
   ],
   "source": [
    "print(stationary_distribution(transition_2))"
   ]
  },
  {
   "cell_type": "code",
   "execution_count": 9,
   "metadata": {},
   "outputs": [
    {
     "name": "stdout",
     "output_type": "stream",
     "text": [
      "[0.16666667 0.16666667 0.16666667 0.16666667 0.16666667 0.16666667]\n"
     ]
    }
   ],
   "source": [
    "print(stationary_distribution(transition_3))"
   ]
  },
  {
   "cell_type": "code",
   "execution_count": 10,
   "metadata": {},
   "outputs": [
    {
     "name": "stdout",
     "output_type": "stream",
     "text": [
      "[0.31034483 0.20689655 0.20689655 0.27586207]\n"
     ]
    }
   ],
   "source": [
    "print(stationary_distribution(transition_7))"
   ]
  },
  {
   "cell_type": "markdown",
   "metadata": {},
   "source": [
    "### Exercise 1.12"
   ]
  },
  {
   "cell_type": "code",
   "execution_count": 11,
   "metadata": {},
   "outputs": [],
   "source": [
    "transition_12 = np.array([[  0, 2/3,   0, 1/3],\n",
    "                          [1/3,   0, 2/3,   0],\n",
    "                          [  0, 1/6,   0, 5/6],\n",
    "                          [2/5,   0, 3/5,   0]])"
   ]
  },
  {
   "cell_type": "code",
   "execution_count": 12,
   "metadata": {},
   "outputs": [
    {
     "name": "stdout",
     "output_type": "stream",
     "text": [
      "[0.18817204 0.17741935 0.31182796 0.32258065]\n"
     ]
    }
   ],
   "source": [
    "print(stationary_distribution(transition_12))"
   ]
  },
  {
   "cell_type": "markdown",
   "metadata": {},
   "source": [
    "### Exercise 1.13"
   ]
  },
  {
   "cell_type": "code",
   "execution_count": 13,
   "metadata": {},
   "outputs": [],
   "source": [
    "transition_13 = np.array([[0.0, 0.0, 0.1, 0.9],\n",
    "                          [0.0, 0.0, 0.6, 0.4],\n",
    "                          [0.8, 0.2, 0.0, 0.0],\n",
    "                          [0.4, 0.6, 0.0, 0.0]])"
   ]
  },
  {
   "cell_type": "code",
   "execution_count": 14,
   "metadata": {},
   "outputs": [
    {
     "data": {
      "text/plain": [
       "array([0.26666667, 0.23333333, 0.16666667, 0.33333333])"
      ]
     },
     "execution_count": 14,
     "metadata": {},
     "output_type": "execute_result"
    }
   ],
   "source": [
    "stationary_distribution(np.linalg.matrix_power(transition_13, 3))"
   ]
  },
  {
   "cell_type": "markdown",
   "metadata": {},
   "source": [
    "## Exercise: Ruiz Family"
   ]
  },
  {
   "cell_type": "code",
   "execution_count": 15,
   "metadata": {},
   "outputs": [],
   "source": [
    "transition_ruiz = np.array([[0.0, 1.0, 0.0, 0.0, 0.0],\n",
    "                            [0.3, 0.0, 0.7, 0.0, 0.0],\n",
    "                            [0.3, 0.0, 0.0, 0.7, 0.0],\n",
    "                            [0.3, 0.0, 0.0, 0.0, 0.7],\n",
    "                            [1.0, 0.0, 0.0, 0.0, 0.0]])"
   ]
  },
  {
   "cell_type": "code",
   "execution_count": 16,
   "metadata": {},
   "outputs": [
    {
     "data": {
      "text/plain": [
       "array([[0.237, 0.21 , 0.21 , 0.   , 0.343],\n",
       "       [0.469, 0.237, 0.147, 0.147, 0.   ],\n",
       "       [0.126, 0.58 , 0.147, 0.147, 0.   ],\n",
       "       [0.273, 0.09 , 0.49 , 0.147, 0.   ],\n",
       "       [0.21 , 0.3  , 0.   , 0.49 , 0.   ]])"
      ]
     },
     "execution_count": 16,
     "metadata": {},
     "output_type": "execute_result"
    }
   ],
   "source": [
    "np.linalg.matrix_power(transition_ruiz, 4)"
   ]
  },
  {
   "cell_type": "code",
   "execution_count": 17,
   "metadata": {},
   "outputs": [
    {
     "data": {
      "text/plain": [
       "array([0.28304557, 0.28304557, 0.1981319 , 0.13869233, 0.09708463])"
      ]
     },
     "execution_count": 17,
     "metadata": {},
     "output_type": "execute_result"
    }
   ],
   "source": [
    "stationary_distribution(transition_ruiz)"
   ]
  },
  {
   "cell_type": "code",
   "execution_count": null,
   "metadata": {},
   "outputs": [],
   "source": []
  },
  {
   "cell_type": "markdown",
   "metadata": {},
   "source": [
    "### Exercise 1.19"
   ]
  },
  {
   "cell_type": "code",
   "execution_count": 18,
   "metadata": {},
   "outputs": [],
   "source": [
    "transition_19 = np.array([[0.7, 0.3],\n",
    "                          [0.1, 0.9]])"
   ]
  },
  {
   "cell_type": "markdown",
   "metadata": {},
   "source": [
    "#### Exercise 1.19 a)"
   ]
  },
  {
   "cell_type": "code",
   "execution_count": 19,
   "metadata": {},
   "outputs": [
    {
     "data": {
      "text/plain": [
       "array([[0.412, 0.588],\n",
       "       [0.196, 0.804]])"
      ]
     },
     "execution_count": 19,
     "metadata": {},
     "output_type": "execute_result"
    }
   ],
   "source": [
    "transition_19_3 = np.linalg.matrix_power(transition_19, 3)\n",
    "transition_19_3"
   ]
  },
  {
   "cell_type": "markdown",
   "metadata": {},
   "source": [
    "#### Exercise 1.19 b)"
   ]
  },
  {
   "cell_type": "code",
   "execution_count": 20,
   "metadata": {},
   "outputs": [
    {
     "data": {
      "text/plain": [
       "array([[0.358, 0.642]])"
      ]
     },
     "execution_count": 20,
     "metadata": {},
     "output_type": "execute_result"
    }
   ],
   "source": [
    "np.array([[0.75, 0.25]]) @ transition_19_3"
   ]
  },
  {
   "cell_type": "markdown",
   "metadata": {},
   "source": [
    "#### Exercise 1.19 c)"
   ]
  },
  {
   "cell_type": "code",
   "execution_count": 21,
   "metadata": {},
   "outputs": [
    {
     "data": {
      "text/plain": [
       "array([0.25, 0.75])"
      ]
     },
     "execution_count": 21,
     "metadata": {},
     "output_type": "execute_result"
    }
   ],
   "source": [
    "stationary_distribution(transition_19)"
   ]
  },
  {
   "cell_type": "markdown",
   "metadata": {},
   "source": [
    "### Exercise 1.20"
   ]
  },
  {
   "cell_type": "code",
   "execution_count": 22,
   "metadata": {},
   "outputs": [],
   "source": [
    "transition_20 = np.array([[0.75, 0.25],\n",
    "                          [0.08, 0.92]])\n",
    "v_20_1995 = np.array([[0.7, 0.3]])"
   ]
  },
  {
   "cell_type": "markdown",
   "metadata": {},
   "source": [
    "#### Exercise 1.20 a)"
   ]
  },
  {
   "cell_type": "code",
   "execution_count": 23,
   "metadata": {},
   "outputs": [
    {
     "data": {
      "text/plain": [
       "array([[0.470275, 0.529725],\n",
       "       [0.169512, 0.830488]])"
      ]
     },
     "execution_count": 23,
     "metadata": {},
     "output_type": "execute_result"
    }
   ],
   "source": [
    "transition_20_3 = np.linalg.matrix_power(transition_20, 3)\n",
    "transition_20_3"
   ]
  },
  {
   "cell_type": "code",
   "execution_count": 24,
   "metadata": {},
   "outputs": [
    {
     "data": {
      "text/plain": [
       "array([[0.3800461, 0.6199539]])"
      ]
     },
     "execution_count": 24,
     "metadata": {},
     "output_type": "execute_result"
    }
   ],
   "source": [
    "v_20_1995 @ transition_20_3"
   ]
  },
  {
   "cell_type": "markdown",
   "metadata": {},
   "source": [
    "#### Exercise 1.20 b)"
   ]
  },
  {
   "cell_type": "code",
   "execution_count": 25,
   "metadata": {},
   "outputs": [
    {
     "data": {
      "text/plain": [
       "array([[0.25623362, 0.74376638],\n",
       "       [0.23800524, 0.76199476]])"
      ]
     },
     "execution_count": 25,
     "metadata": {},
     "output_type": "execute_result"
    }
   ],
   "source": [
    "transition_20_10 = np.linalg.matrix_power(transition_20, 10)\n",
    "transition_20_10"
   ]
  },
  {
   "cell_type": "code",
   "execution_count": 26,
   "metadata": {},
   "outputs": [
    {
     "data": {
      "text/plain": [
       "array([[0.25076511, 0.74923489]])"
      ]
     },
     "execution_count": 26,
     "metadata": {},
     "output_type": "execute_result"
    }
   ],
   "source": [
    "v_20_1995 @ transition_20_10"
   ]
  },
  {
   "cell_type": "markdown",
   "metadata": {},
   "source": [
    "#### Exercise 1.20 c)"
   ]
  },
  {
   "cell_type": "code",
   "execution_count": 27,
   "metadata": {},
   "outputs": [
    {
     "data": {
      "text/plain": [
       "array([0.24242424, 0.75757576])"
      ]
     },
     "execution_count": 27,
     "metadata": {},
     "output_type": "execute_result"
    }
   ],
   "source": [
    "stationary_distribution(transition_20)"
   ]
  },
  {
   "cell_type": "markdown",
   "metadata": {},
   "source": [
    "### Exercise 1.36"
   ]
  },
  {
   "cell_type": "code",
   "execution_count": 28,
   "metadata": {},
   "outputs": [],
   "source": [
    "transition_36 = np.array([[   0,    0,    1],\n",
    "                          [0.05, 0.95,    0],\n",
    "                          [   0, 0.02, 0.98]])"
   ]
  },
  {
   "cell_type": "markdown",
   "metadata": {},
   "source": [
    "#### Exercise 1.36 a)"
   ]
  },
  {
   "cell_type": "code",
   "execution_count": 29,
   "metadata": {},
   "outputs": [
    {
     "data": {
      "text/plain": [
       "array([0.01408451, 0.28169014, 0.70422535])"
      ]
     },
     "execution_count": 29,
     "metadata": {},
     "output_type": "execute_result"
    }
   ],
   "source": [
    "stationary_distribution(transition_36)"
   ]
  },
  {
   "cell_type": "markdown",
   "metadata": {},
   "source": [
    "#### Exercise 1.36 b)"
   ]
  },
  {
   "cell_type": "code",
   "execution_count": 30,
   "metadata": {},
   "outputs": [
    {
     "data": {
      "text/plain": [
       "array([71.  ,  3.55,  1.42])"
      ]
     },
     "execution_count": 30,
     "metadata": {},
     "output_type": "execute_result"
    }
   ],
   "source": [
    "1 / stationary_distribution(transition_36)"
   ]
  },
  {
   "cell_type": "markdown",
   "metadata": {},
   "source": [
    "### Exercise 1.37"
   ]
  },
  {
   "cell_type": "code",
   "execution_count": 31,
   "metadata": {},
   "outputs": [],
   "source": [
    "transition_37 = np.array([[  1,   0,   0,   0],\n",
    "                          [0.2, 0.8,   0,   0],\n",
    "                          [  0, 0.2, 0.8,   0],\n",
    "                          [  0,   0, 0.2, 0.2]])"
   ]
  },
  {
   "cell_type": "markdown",
   "metadata": {},
   "source": [
    "#### Exercise 1.37 a)"
   ]
  },
  {
   "cell_type": "code",
   "execution_count": 32,
   "metadata": {},
   "outputs": [
    {
     "data": {
      "text/plain": [
       "array([1., 0., 0., 0.])"
      ]
     },
     "execution_count": 32,
     "metadata": {},
     "output_type": "execute_result"
    }
   ],
   "source": [
    "stationary_distribution(transition_37)"
   ]
  },
  {
   "cell_type": "markdown",
   "metadata": {},
   "source": [
    "### Exercise 1.38"
   ]
  },
  {
   "cell_type": "code",
   "execution_count": 33,
   "metadata": {},
   "outputs": [],
   "source": [
    "transition_38 = np.array([[0.5, 0.5,   0,   0],\n",
    "                          [2/3,   0, 1/3,   0],\n",
    "                          [3/4,   0,   0, 1/4],\n",
    "                          [  1,   0,   0,   0]])"
   ]
  },
  {
   "cell_type": "markdown",
   "metadata": {},
   "source": [
    "#### Exercise 1.38 a)"
   ]
  },
  {
   "cell_type": "code",
   "execution_count": 34,
   "metadata": {},
   "outputs": [],
   "source": [
    "pi_38 = stationary_distribution(transition_38)"
   ]
  },
  {
   "cell_type": "markdown",
   "metadata": {},
   "source": [
    "#### Exercise 1.38 b)"
   ]
  },
  {
   "cell_type": "code",
   "execution_count": 35,
   "metadata": {},
   "outputs": [
    {
     "data": {
      "text/plain": [
       "False"
      ]
     },
     "execution_count": 35,
     "metadata": {},
     "output_type": "execute_result"
    }
   ],
   "source": [
    "check_detailed_balance(transition_38)"
   ]
  },
  {
   "cell_type": "markdown",
   "metadata": {},
   "source": [
    "### Exercise 1.48"
   ]
  },
  {
   "cell_type": "code",
   "execution_count": 36,
   "metadata": {},
   "outputs": [
    {
     "data": {
      "text/plain": [
       "array([[0. , 0.5, 0. , 0. , 0. , 0. , 0. , 0. , 0. , 0. , 0. , 0.5],\n",
       "       [0.5, 0. , 0.5, 0. , 0. , 0. , 0. , 0. , 0. , 0. , 0. , 0. ],\n",
       "       [0. , 0.5, 0. , 0.5, 0. , 0. , 0. , 0. , 0. , 0. , 0. , 0. ],\n",
       "       [0. , 0. , 0.5, 0. , 0.5, 0. , 0. , 0. , 0. , 0. , 0. , 0. ],\n",
       "       [0. , 0. , 0. , 0.5, 0. , 0.5, 0. , 0. , 0. , 0. , 0. , 0. ],\n",
       "       [0. , 0. , 0. , 0. , 0.5, 0. , 0.5, 0. , 0. , 0. , 0. , 0. ],\n",
       "       [0. , 0. , 0. , 0. , 0. , 0.5, 0. , 0.5, 0. , 0. , 0. , 0. ],\n",
       "       [0. , 0. , 0. , 0. , 0. , 0. , 0.5, 0. , 0.5, 0. , 0. , 0. ],\n",
       "       [0. , 0. , 0. , 0. , 0. , 0. , 0. , 0.5, 0. , 0.5, 0. , 0. ],\n",
       "       [0. , 0. , 0. , 0. , 0. , 0. , 0. , 0. , 0.5, 0. , 0.5, 0. ],\n",
       "       [0. , 0. , 0. , 0. , 0. , 0. , 0. , 0. , 0. , 0.5, 0. , 0.5],\n",
       "       [0.5, 0. , 0. , 0. , 0. , 0. , 0. , 0. , 0. , 0. , 0.5, 0. ]])"
      ]
     },
     "execution_count": 36,
     "metadata": {},
     "output_type": "execute_result"
    }
   ],
   "source": [
    "n = 12\n",
    "transition_48 = np.zeros([n, n])\n",
    "for i in range(n):\n",
    "    transition_48[i, [(i - 1) % n, (i + 1) % n]] = [0.5] * 2\n",
    "transition_48"
   ]
  },
  {
   "cell_type": "markdown",
   "metadata": {},
   "source": [
    "#### Exercise 1.48 a)"
   ]
  },
  {
   "cell_type": "markdown",
   "metadata": {},
   "source": [
    "El resultado será: \n",
    "$$\\pi_{i} = 1 / 12 \\ \\forall i \\in {1, 2, ..., 12}$$\n",
    "Por cumplir la matriz de transición la propiedad de ser *doblemente estocástica* (tanto filas como columnas suman la unidad)."
   ]
  },
  {
   "cell_type": "code",
   "execution_count": 37,
   "metadata": {},
   "outputs": [
    {
     "data": {
      "text/plain": [
       "array([0.08333333, 0.08333333, 0.08333333, 0.08333333, 0.08333333,\n",
       "       0.08333333, 0.08333333, 0.08333333, 0.08333333, 0.08333333,\n",
       "       0.08333333, 0.08333333])"
      ]
     },
     "execution_count": 37,
     "metadata": {},
     "output_type": "execute_result"
    }
   ],
   "source": [
    "stationary_distribution(transition_48)"
   ]
  },
  {
   "cell_type": "markdown",
   "metadata": {},
   "source": [
    "#### Exercise 1.48 b)"
   ]
  },
  {
   "cell_type": "code",
   "execution_count": 39,
   "metadata": {},
   "outputs": [
    {
     "name": "stdout",
     "output_type": "stream",
     "text": [
      "n = 10000\tp = 0.08410\n",
      "n = 20000\tp = 0.08265\n",
      "n = 30000\tp = 0.08237\n",
      "n = 40000\tp = 0.08260\n",
      "n = 50000\tp = 0.08374\n",
      "n = 60000\tp = 0.08283\n",
      "n = 70000\tp = 0.08313\n",
      "n = 80000\tp = 0.08273\n",
      "n = 90000\tp = 0.08238\n",
      "n = 100000\tp = 0.08262\n",
      "n = 100000\tp = 0.08262\n"
     ]
    }
   ],
   "source": [
    "import numpy as np\n",
    "\n",
    "def position_to_clock(position: int) -> int:\n",
    "    if (position % 12):\n",
    "        return position % 12\n",
    "    else:\n",
    "        return 12\n",
    "\n",
    "n = 100000\n",
    "y = 0\n",
    "for n_temp in range(1, n + 1):\n",
    "    s = f'{12} '\n",
    "    position = np.random.choice([-1, 1])\n",
    "    s += f'{position_to_clock(position): 2d} '\n",
    "    while(position % 12 != 0):\n",
    "        position += np.random.choice([-1, 1])\n",
    "        s += f'{position_to_clock(position): 2d} '\n",
    "    y += (position != 0)\n",
    "    # print(f'y: {y:3d} s: {s}')\n",
    "    if n_temp % 10000 == 0:\n",
    "        print(f'n = {n_temp}\\tp = {y / n_temp:.5f}')\n",
    "print(f'n = {n}\\tp = {y / n:.5f}')"
   ]
  },
  {
   "cell_type": "code",
   "execution_count": null,
   "metadata": {},
   "outputs": [],
   "source": []
  }
 ],
 "metadata": {
  "kernelspec": {
   "display_name": "Python 3",
   "language": "python",
   "name": "python3"
  },
  "language_info": {
   "codemirror_mode": {
    "name": "ipython",
    "version": 3
   },
   "file_extension": ".py",
   "mimetype": "text/x-python",
   "name": "python",
   "nbconvert_exporter": "python",
   "pygments_lexer": "ipython3",
   "version": "3.7.0"
  }
 },
 "nbformat": 4,
 "nbformat_minor": 2
}
