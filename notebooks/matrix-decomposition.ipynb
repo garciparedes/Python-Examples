{
 "cells": [
  {
   "cell_type": "code",
   "execution_count": 1,
   "metadata": {},
   "outputs": [],
   "source": [
    "import numpy as np"
   ]
  },
  {
   "cell_type": "markdown",
   "metadata": {},
   "source": [
    "## A = LU decomposition"
   ]
  },
  {
   "cell_type": "code",
   "execution_count": 21,
   "metadata": {},
   "outputs": [
    {
     "data": {
      "text/plain": [
       "array([[ 1.,  1., -1.,  1.],\n",
       "       [ 1.,  2., -4., -2.],\n",
       "       [ 2.,  1.,  1.,  5.],\n",
       "       [-1.,  0., -2., -4.]])"
      ]
     },
     "execution_count": 21,
     "metadata": {},
     "output_type": "execute_result"
    }
   ],
   "source": [
    "L = np.array([[1, 0, 0, 0], \n",
    "              [1, 1, 0, 0],\n",
    "              [2,-1, 1, 0],\n",
    "              [-1,1, 0, 1]])\n",
    "\n",
    "U = np.array([[1, 1, -1, 1], \n",
    "              [0, 1, -3, -3],\n",
    "              [0, 0, 0, 0],\n",
    "              [0, 0, 0, 0]])\n",
    "\n",
    "P = np.array([[1, 0, 0, 0],\n",
    "              [0, 1, 0, 0],\n",
    "              [0, 0, 1, 0],\n",
    "              [0, 0, 0, 1]])\n",
    "\n",
    "P @ L @ U @ np.linalg.inv(P)"
   ]
  },
  {
   "cell_type": "code",
   "execution_count": 26,
   "metadata": {},
   "outputs": [
    {
     "data": {
      "text/plain": [
       "array([[ 2. ,  3. ,  1. ,  2. ],\n",
       "       [-2. ,  4. , -1. ,  5. ],\n",
       "       [ 3. ,  7. ,  1.5,  1. ],\n",
       "       [ 6. ,  9. ,  3. ,  7. ]])"
      ]
     },
     "execution_count": 26,
     "metadata": {},
     "output_type": "execute_result"
    }
   ],
   "source": [
    "L = np.array([[  1,    0,   0,  0], \n",
    "              [ -1,    1,   0,  0],\n",
    "              [3/2, 5/14,   1,  0],\n",
    "              [  3,    0,   0,  1]])\n",
    "\n",
    "U = np.array([[ 2,     3,   1,   2], \n",
    "              [ 0,     7,   0,   7],\n",
    "              [ 0,     0,   0,-9/2],\n",
    "              [ 0,     0,   0,   1]])\n",
    "\n",
    "P = np.array([[1, 0, 0, 0],\n",
    "              [0, 1, 0, 0],\n",
    "              [0, 0, 1, 0],\n",
    "              [0, 0, 0, 1]])\n",
    "\n",
    "P @ L @ U @ np.linalg.inv(P)"
   ]
  },
  {
   "cell_type": "code",
   "execution_count": 28,
   "metadata": {},
   "outputs": [
    {
     "data": {
      "text/plain": [
       "array([[ 4.,  2.,  6.],\n",
       "       [ 3.,  0.,  7.],\n",
       "       [-2., -1., -3.]])"
      ]
     },
     "execution_count": 28,
     "metadata": {},
     "output_type": "execute_result"
    }
   ],
   "source": [
    "L = np.array([[  1,   0,   0], \n",
    "              [3/4,   1,   0],\n",
    "              [-1/2,  0,   1]])\n",
    "\n",
    "U = np.array([[ 4,    2,   6], \n",
    "              [ 0, -3/2, 5/2],\n",
    "              [ 0,     0, 0]])\n",
    "\n",
    "P = np.array([[1, 0, 0],\n",
    "              [0, 1, 0],\n",
    "              [0, 0, 1]])\n",
    "\n",
    "P @ L @ U @ np.linalg.inv(P)"
   ]
  },
  {
   "cell_type": "code",
   "execution_count": 30,
   "metadata": {},
   "outputs": [
    {
     "data": {
      "text/plain": [
       "array([[ 2.,  0.,  1.,  2.],\n",
       "       [ 1.,  1.,  0.,  2.],\n",
       "       [ 2., -1.,  3.,  1.],\n",
       "       [ 3., -1.,  4.,  3.]])"
      ]
     },
     "execution_count": 30,
     "metadata": {},
     "output_type": "execute_result"
    }
   ],
   "source": [
    "L = np.array([[  1,    0,   0,  0], \n",
    "              [1/2,   1,   0,  0],\n",
    "              [  1,   -1,   1,  0],\n",
    "              [3/2,   -1, 4/3,  1]])\n",
    "\n",
    "U = np.array([[ 2,  0,   1,   2], \n",
    "              [ 0,  1,-1/2,   1],\n",
    "              [ 0,  0, 3/2,   0],\n",
    "              [ 0,  0,   0,   1]])\n",
    "\n",
    "P = np.array([[1, 0, 0, 0],\n",
    "              [0, 1, 0, 0],\n",
    "              [0, 0, 1, 0],\n",
    "              [0, 0, 0, 1]])\n",
    "\n",
    "P @ L @ U @ np.linalg.inv(P)"
   ]
  },
  {
   "cell_type": "markdown",
   "metadata": {},
   "source": [
    "## A = LDU decomposition"
   ]
  },
  {
   "cell_type": "code",
   "execution_count": 34,
   "metadata": {},
   "outputs": [
    {
     "name": "stdout",
     "output_type": "stream",
     "text": [
      "[[ 4. -2.  1.]\n",
      " [20. -7. 12.]\n",
      " [-8. 13. 17.]]\n",
      "[[ 4. -2.  1.]\n",
      " [20. -7. 12.]\n",
      " [-8. 13. 17.]]\n"
     ]
    }
   ],
   "source": [
    "L = np.array([[  1,   0,   0], \n",
    "              [  5,   1,   0],\n",
    "              [ -2,   3,   1]])\n",
    "\n",
    "U1 = np.array([[  4,  -2,   1], \n",
    "               [ 0,   3,   7],\n",
    "               [ 0,   0,  -2]])\n",
    "\n",
    "D = np.array([[ 4, 0, 0], \n",
    "              [0, 3, 0],\n",
    "              [0, 0,-2]])\n",
    "\n",
    "U2 = np.array([[ 1,-1/2,1/4], \n",
    "               [ 0,   1,7/3],\n",
    "               [ 0,   0,  1]])\n",
    "\n",
    "\n",
    "P = np.array([[1, 0, 0],\n",
    "              [0, 1, 0],\n",
    "              [0, 0, 1]])\n",
    "\n",
    "print(P @ L @ U1 @ np.linalg.inv(P))\n",
    "print(P @ L @ D @ U2 @ np.linalg.inv(P))"
   ]
  },
  {
   "cell_type": "code",
   "execution_count": 2,
   "metadata": {},
   "outputs": [
    {
     "name": "stdout",
     "output_type": "stream",
     "text": [
      "[[  1.   2.  -2.   1.]\n",
      " [  4.   5.  -7.   6.]\n",
      " [  6. -12.  -6.  22.]\n",
      " [  5.  25. -15.   3.]]\n",
      "[[  1.   2.  -2.   1.]\n",
      " [  4.   5.  -7.   6.]\n",
      " [  6. -12.  -6.  22.]\n",
      " [  5.  25. -15.   3.]]\n"
     ]
    }
   ],
   "source": [
    "L = np.array([[1, 0, 0, 0], \n",
    "              [4, 1, 0, 0],\n",
    "              [6, 8, 1, 0],\n",
    "              [5, -5, 0, 1]])\n",
    "\n",
    "U1 = np.array([[1, 2, -2, 1],\n",
    "              [0, -3, 1, 2],\n",
    "              [0, 0, -2, 0],\n",
    "              [0, 0, 0, 8]])\n",
    "\n",
    "D = np.array([[1, 0, 0, 0],\n",
    "              [0, -3, 0, 0],\n",
    "              [0, 0, -2, 0],\n",
    "              [0, 0, 0, 8]])\n",
    "\n",
    "U2 = np.array([[1, 2, -2, 1],\n",
    "               [0, 1, -1/3, -2/3],\n",
    "               [0, 0, 1, 0],\n",
    "               [0, 0, 0, 1]])\n",
    "\n",
    "\n",
    "P = np.array([[1, 0, 0, 0],\n",
    "              [0, 1, 0, 0],\n",
    "              [0, 0, 1, 0],\n",
    "              [0, 0, 0, 1]])\n",
    "\n",
    "print(P @ L @ U1 @ np.linalg.inv(P))\n",
    "print(P @ L @ D @ U2 @ np.linalg.inv(P))"
   ]
  },
  {
   "cell_type": "code",
   "execution_count": 3,
   "metadata": {},
   "outputs": [
    {
     "name": "stdout",
     "output_type": "stream",
     "text": [
      "[[ 1.  2. -2.  1.  1.]\n",
      " [ 0. -3.  1.  2.  2.]\n",
      " [ 4.  2. -8.  8.  9.]\n",
      " [ 5.  1. -5. 13. 11.]\n",
      " [ 0.  0.  0.  0.  2.]]\n"
     ]
    }
   ],
   "source": [
    "L = np.array([[1, 0, 0, 0, 0], \n",
    "              [0, 1, 0, 0, 0],\n",
    "              [4, 2, 1, 0, 0],\n",
    "              [5, 3, -1, 1, 0],\n",
    "              [0, 0, 0, 0, 1]])\n",
    "\n",
    "U = np.array([[1, 2, -2, 1, 1],\n",
    "              [0, 1, -1/3, -2/3, -2/3],\n",
    "              [0, 0, 1, 0, -1/2],\n",
    "              [0, 0, 0, 1, 1/2],\n",
    "              [0, 0, 0, 0, 1]])\n",
    "\n",
    "D = np.array([[1, 0, 0, 0, 0],\n",
    "              [0, -3, 0, 0, 0],\n",
    "              [0, 0, -2, 0, 0],\n",
    "              [0, 0, 0, 2, 0],\n",
    "              [0, 0, 0, 0, 2]])\n",
    "\n",
    "P = np.array([[1, 0, 0, 0, 0],\n",
    "              [0, 1, 0, 0, 0],\n",
    "              [0, 0, 1, 0, 0],\n",
    "              [0, 0, 0, 1, 0],\n",
    "              [0, 0, 0, 0, 1]])\n",
    "\n",
    "print(P @ L @ D @ U @ np.linalg.inv(P))"
   ]
  },
  {
   "cell_type": "markdown",
   "metadata": {},
   "source": [
    "## A = LDt(L) decomposition"
   ]
  },
  {
   "cell_type": "code",
   "execution_count": 6,
   "metadata": {},
   "outputs": [
    {
     "name": "stdout",
     "output_type": "stream",
     "text": [
      "[[ 4. -2. -8.]\n",
      " [-2. -7. 13.]\n",
      " [-8. 13. 17.]]\n"
     ]
    }
   ],
   "source": [
    "L = np.array([[1, 0, 0], \n",
    "              [-1/2, 1, 0],\n",
    "              [-2, -9/8, 1]])\n",
    "\n",
    "D = np.array([[4, 0, 0], \n",
    "              [0, -8, 0],\n",
    "              [0, 0, 89/8]])\n",
    "\n",
    "P = np.array([[1, 0, 0],\n",
    "              [0, 1, 0],\n",
    "              [0, 0, 1]])\n",
    "\n",
    "print(P @ L @ D @ np.transpose(L) @ np.linalg.inv(P))"
   ]
  },
  {
   "cell_type": "code",
   "execution_count": 35,
   "metadata": {},
   "outputs": [
    {
     "name": "stdout",
     "output_type": "stream",
     "text": [
      "[[  1.   4.  -2.   1.]\n",
      " [  4.   5. -12.  25.]\n",
      " [ -2. -12.  -6. -15.]\n",
      " [  1.  25. -15.  -3.]]\n"
     ]
    }
   ],
   "source": [
    "L = np.array([[1, 0, 0, 0], \n",
    "              [4, 1, 0, 0],\n",
    "              [-2, 4/11, 1, 0],\n",
    "              [1, -21/11, 227/94, 1]])\n",
    "\n",
    "D = np.array([[1, 0, 0, 0], \n",
    "              [0, -11, 0, 0],\n",
    "              [0, 0, -94/11, 0],\n",
    "              [0, 0, 0, 8077/94]])\n",
    "\n",
    "P = np.array([[1, 0, 0, 0],\n",
    "              [0, 1, 0, 0],\n",
    "              [0, 0, 1, 0],\n",
    "              [0, 0, 0, 1]])\n",
    "\n",
    "print(P @ L @ D @ np.transpose(L) @ np.linalg.inv(P))"
   ]
  },
  {
   "cell_type": "code",
   "execution_count": null,
   "metadata": {},
   "outputs": [],
   "source": [
    "L = np.array([[1, 0, 0, 0], \n",
    "              [4, 1, 0, 0],\n",
    "              [-2, 4/11, 1, 0],\n",
    "              [1, -21/11, 227/94, 1]])\n",
    "\n",
    "D = np.array([[1, 0, 0, 0], \n",
    "              [0, -11, 0, 0],\n",
    "              [0, 0, -94/11, 0],\n",
    "              [0, 0, 0, 8077/94]])\n",
    "\n",
    "P = np.array([[1, 0, 0, 0],\n",
    "              [0, 1, 0, 0],\n",
    "              [0, 0, 1, 0],\n",
    "              [0, 0, 0, 1]])\n",
    "\n",
    "print(P @ L @ D @ np.transpose(L) @ np.linalg.inv(P))"
   ]
  }
 ],
 "metadata": {
  "kernelspec": {
   "display_name": "Python 3",
   "language": "python",
   "name": "python3"
  },
  "language_info": {
   "codemirror_mode": {
    "name": "ipython",
    "version": 3
   },
   "file_extension": ".py",
   "mimetype": "text/x-python",
   "name": "python",
   "nbconvert_exporter": "python",
   "pygments_lexer": "ipython3",
   "version": "3.6.4"
  }
 },
 "nbformat": 4,
 "nbformat_minor": 2
}
